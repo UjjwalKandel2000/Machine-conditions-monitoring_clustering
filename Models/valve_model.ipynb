{
 "cells": [
  {
   "cell_type": "markdown",
   "id": "3d33b83f",
   "metadata": {},
   "source": [
    "### Import all the necessary libraries."
   ]
  },
  {
   "cell_type": "code",
   "execution_count": 1,
   "id": "48bea12d",
   "metadata": {},
   "outputs": [],
   "source": [
    "import numpy as np\n",
    "import pandas as pd\n",
    "import matplotlib.pyplot as plt\n",
    "import seaborn as sns\n",
    "from sklearn.model_selection import train_test_split\n",
    "from sklearn.ensemble import RandomForestClassifier\n",
    "import pickle\n",
    "from sklearn import metrics"
   ]
  },
  {
   "cell_type": "markdown",
   "id": "fd2f0fc4",
   "metadata": {},
   "source": [
    "#### Import the valve dataset with all the extracted features and choose only the ones with highest correlation with respect to column 'class'"
   ]
  },
  {
   "cell_type": "code",
   "execution_count": 3,
   "id": "53a45822",
   "metadata": {},
   "outputs": [
    {
     "data": {
      "text/plain": [
       "class             1.000000\n",
       "y_mean            0.027144\n",
       "y_min             0.026164\n",
       "zcr_min           0.014071\n",
       "spec_roll_min     0.011795\n",
       "spec_cent_min     0.010260\n",
       "zcr_mean          0.008412\n",
       "spec_cent_mean    0.000492\n",
       "spec_roll_mean   -0.002033\n",
       "flat_mean        -0.005123\n",
       "amp_min          -0.005767\n",
       "melspec_std      -0.008701\n",
       "flat_max         -0.009779\n",
       "melspec_mean     -0.029909\n",
       "y_std            -0.032896\n",
       "rms_mean         -0.046125\n",
       "y_max            -0.052506\n",
       "zcr_max          -0.052856\n",
       "amp_mean         -0.084064\n",
       "Name: class, dtype: float64"
      ]
     },
     "execution_count": 3,
     "metadata": {},
     "output_type": "execute_result"
    }
   ],
   "source": [
    "df = pd.read_csv(\"dataset/valve_features.csv\")\n",
    "correlation = df.corr()\n",
    "#plt.figure(figsize=(14,8))\n",
    "#sns.heatmap(correlation,annot=True,linewidth=0,vmin=-1)\n",
    "correlation['class'].sort_values(ascending = False)"
   ]
  },
  {
   "cell_type": "markdown",
   "id": "26e7c288",
   "metadata": {},
   "source": [
    "#### We can see that `rms_mean`,`y_max`,`zcr_max`,`amp_mean` have highest correlation and so we will choose those features and create a model for valve machine."
   ]
  },
  {
   "cell_type": "code",
   "execution_count": 6,
   "id": "0560c855",
   "metadata": {},
   "outputs": [
    {
     "data": {
      "text/html": [
       "<div>\n",
       "<style scoped>\n",
       "    .dataframe tbody tr th:only-of-type {\n",
       "        vertical-align: middle;\n",
       "    }\n",
       "\n",
       "    .dataframe tbody tr th {\n",
       "        vertical-align: top;\n",
       "    }\n",
       "\n",
       "    .dataframe thead th {\n",
       "        text-align: right;\n",
       "    }\n",
       "</style>\n",
       "<table border=\"1\" class=\"dataframe\">\n",
       "  <thead>\n",
       "    <tr style=\"text-align: right;\">\n",
       "      <th></th>\n",
       "      <th>rms_mean</th>\n",
       "      <th>y_max</th>\n",
       "      <th>zcr_max</th>\n",
       "      <th>amp_mean</th>\n",
       "      <th>class</th>\n",
       "    </tr>\n",
       "  </thead>\n",
       "  <tbody>\n",
       "    <tr>\n",
       "      <th>0</th>\n",
       "      <td>0.004988</td>\n",
       "      <td>0.083072</td>\n",
       "      <td>0.198730</td>\n",
       "      <td>0.012551</td>\n",
       "      <td>0</td>\n",
       "    </tr>\n",
       "    <tr>\n",
       "      <th>1</th>\n",
       "      <td>0.004762</td>\n",
       "      <td>0.091593</td>\n",
       "      <td>0.214355</td>\n",
       "      <td>0.014089</td>\n",
       "      <td>0</td>\n",
       "    </tr>\n",
       "    <tr>\n",
       "      <th>2</th>\n",
       "      <td>0.005101</td>\n",
       "      <td>0.083659</td>\n",
       "      <td>0.200684</td>\n",
       "      <td>0.015995</td>\n",
       "      <td>0</td>\n",
       "    </tr>\n",
       "    <tr>\n",
       "      <th>3</th>\n",
       "      <td>0.005138</td>\n",
       "      <td>0.082879</td>\n",
       "      <td>0.197754</td>\n",
       "      <td>0.016069</td>\n",
       "      <td>0</td>\n",
       "    </tr>\n",
       "    <tr>\n",
       "      <th>4</th>\n",
       "      <td>0.005219</td>\n",
       "      <td>0.075072</td>\n",
       "      <td>0.187500</td>\n",
       "      <td>0.015526</td>\n",
       "      <td>0</td>\n",
       "    </tr>\n",
       "  </tbody>\n",
       "</table>\n",
       "</div>"
      ],
      "text/plain": [
       "   rms_mean     y_max   zcr_max  amp_mean  class\n",
       "0  0.004988  0.083072  0.198730  0.012551      0\n",
       "1  0.004762  0.091593  0.214355  0.014089      0\n",
       "2  0.005101  0.083659  0.200684  0.015995      0\n",
       "3  0.005138  0.082879  0.197754  0.016069      0\n",
       "4  0.005219  0.075072  0.187500  0.015526      0"
      ]
     },
     "execution_count": 6,
     "metadata": {},
     "output_type": "execute_result"
    }
   ],
   "source": [
    "df1 = df.filter(['rms_mean','y_max','zcr_max','amp_mean','class'],axis=1)\n",
    "df1.head()"
   ]
  },
  {
   "cell_type": "code",
   "execution_count": 7,
   "id": "e1308143",
   "metadata": {},
   "outputs": [],
   "source": [
    "# Separate features and target\n",
    "X = df.loc[:,['rms_mean','y_max','zcr_max','amp_mean']]\n",
    "y = df.iloc[:,-1]"
   ]
  },
  {
   "cell_type": "code",
   "execution_count": 8,
   "id": "980437f2",
   "metadata": {},
   "outputs": [],
   "source": [
    "# Divide the data into Training, and Test Set\n",
    "\n",
    "X_train,X_test,y_train,y_test = train_test_split(X,y,test_size=.3,random_state=42)"
   ]
  },
  {
   "cell_type": "code",
   "execution_count": 22,
   "id": "df905504",
   "metadata": {},
   "outputs": [],
   "source": [
    "# data standardization with  sklearn\n",
    "from sklearn.preprocessing import StandardScaler\n",
    "\n",
    "# copy of datasets\n",
    "X_train_stand = X_train.copy()\n",
    "X_test_stand = X_test.copy()\n",
    "\n",
    "\n",
    "# fit on training data column\n",
    "scale = StandardScaler().fit(X_train_stand)\n",
    "    \n",
    "# transform the training data column\n",
    "X_train_stand = scale.transform(X_train_stand)\n",
    "    \n",
    "# transform the testing data column\n",
    "X_test_stand = scale.transform(X_test_stand)"
   ]
  },
  {
   "cell_type": "markdown",
   "id": "d2a998c8",
   "metadata": {},
   "source": [
    "#### Create a model for predicting.\n",
    "\n",
    "Based on our research RandomForestClassifier is best suited for the 'valve machine'."
   ]
  },
  {
   "cell_type": "code",
   "execution_count": 23,
   "id": "68b9f445",
   "metadata": {},
   "outputs": [
    {
     "name": "stdout",
     "output_type": "stream",
     "text": [
      "Test accuracy for Random Forest is: 93.68505195843325\n",
      "\n",
      "Confusion matrix:\n",
      " [[1093   16]\n",
      " [  63   79]]\n",
      "\n",
      " Classification Report: \n",
      "               precision    recall  f1-score   support\n",
      "\n",
      "           0       0.95      0.99      0.97      1109\n",
      "           1       0.83      0.56      0.67       142\n",
      "\n",
      "    accuracy                           0.94      1251\n",
      "   macro avg       0.89      0.77      0.82      1251\n",
      "weighted avg       0.93      0.94      0.93      1251\n",
      "\n"
     ]
    }
   ],
   "source": [
    "from sklearn.ensemble import RandomForestClassifier\n",
    "from sklearn import metrics\n",
    "\n",
    "model1 = RandomForestClassifier(random_state=42)\n",
    "model1.fit(X_train_stand, y_train)\n",
    "# Predict\n",
    "y_pred1 = model1.predict(X_test_stand)\n",
    "\n",
    "#Evaluation of the model\n",
    "\n",
    "print('Test accuracy for Random Forest is:',metrics.accuracy_score(y_test,y_pred1)*100)\n",
    "print('\\nConfusion matrix:\\n',metrics.confusion_matrix(y_test,y_pred1))\n",
    "print('\\n Classification Report: \\n',metrics.classification_report(y_test,y_pred1))\n"
   ]
  },
  {
   "cell_type": "markdown",
   "id": "b2471cda",
   "metadata": {},
   "source": [
    "#### Checking the cross validation score for the model."
   ]
  },
  {
   "cell_type": "code",
   "execution_count": 11,
   "id": "432a530e",
   "metadata": {},
   "outputs": [
    {
     "data": {
      "text/plain": [
       "array([0.96402878, 0.95443645, 0.95083933, 0.92086331, 0.86570743])"
      ]
     },
     "execution_count": 11,
     "metadata": {},
     "output_type": "execute_result"
    }
   ],
   "source": [
    "from sklearn.model_selection import cross_val_score\n",
    "cross_val_score(RandomForestClassifier(),X, y, cv=5)"
   ]
  },
  {
   "cell_type": "code",
   "execution_count": 10,
   "id": "5ffd29de",
   "metadata": {},
   "outputs": [
    {
     "data": {
      "text/plain": [
       "array([0.95683453, 0.94364508, 0.95083933, 0.91846523, 0.8705036 ])"
      ]
     },
     "execution_count": 10,
     "metadata": {},
     "output_type": "execute_result"
    }
   ],
   "source": [
    "cross_val_score(RandomForestClassifier(class_weight=\"balanced\"),X, y)"
   ]
  },
  {
   "cell_type": "markdown",
   "id": "c847c74b",
   "metadata": {},
   "source": [
    "#### Create a model for it to run"
   ]
  },
  {
   "cell_type": "code",
   "execution_count": null,
   "id": "d6cb7bf5",
   "metadata": {},
   "outputs": [],
   "source": [
    "import pickle "
   ]
  },
  {
   "cell_type": "code",
   "execution_count": null,
   "id": "f9e8dd67",
   "metadata": {},
   "outputs": [],
   "source": [
    "filename = 'valve_model.sav'\n",
    "pickle.dump(KNN_model, open(filename, 'wb'))"
   ]
  },
  {
   "cell_type": "code",
   "execution_count": null,
   "id": "0a601544",
   "metadata": {},
   "outputs": [],
   "source": [
    "# load the model from disk\n",
    "loaded_model = pickle.load(open(filename, 'rb'))\n",
    "result = loaded_model.predict(X_test_stand)"
   ]
  }
 ],
 "metadata": {
  "kernelspec": {
   "display_name": "Python 3 (ipykernel)",
   "language": "python",
   "name": "python3"
  },
  "language_info": {
   "codemirror_mode": {
    "name": "ipython",
    "version": 3
   },
   "file_extension": ".py",
   "mimetype": "text/x-python",
   "name": "python",
   "nbconvert_exporter": "python",
   "pygments_lexer": "ipython3",
   "version": "3.8.12"
  }
 },
 "nbformat": 4,
 "nbformat_minor": 5
}

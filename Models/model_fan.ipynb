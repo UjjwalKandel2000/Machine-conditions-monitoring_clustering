{
 "cells": [
  {
   "cell_type": "code",
   "execution_count": 8,
   "id": "36f7a24d",
   "metadata": {},
   "outputs": [],
   "source": [
    "import librosa\n",
    "import librosa.display\n",
    "import matplotlib.pyplot as plt\n",
    "import pandas as pd\n",
    "import numpy as np\n",
    "from tqdm import tqdm\n",
    "from glob import glob\n",
    "\n",
    "from sklearn import datasets\n",
    "from sklearn.metrics import roc_curve, auc\n",
    "from sklearn.metrics import confusion_matrix\n",
    "from sklearn.ensemble import RandomForestClassifier\n",
    "from sklearn.tree import DecisionTreeClassifier\n",
    "from sklearn.naive_bayes import GaussianNB\n",
    "from sklearn.linear_model import LogisticRegression\n",
    "from sklearn.model_selection import train_test_split\n",
    "from sklearn.preprocessing import StandardScaler\n",
    "from sklearn.preprocessing import LabelEncoder\n",
    "from sklearn.pipeline import Pipeline\n",
    "\n",
    "%matplotlib notebook"
   ]
  },
  {
   "cell_type": "code",
   "execution_count": 11,
   "id": "3405aa18",
   "metadata": {},
   "outputs": [
    {
     "data": {
      "text/plain": [
       "0"
      ]
     },
     "execution_count": 11,
     "metadata": {},
     "output_type": "execute_result"
    }
   ],
   "source": [
    "data_dir = \"-6db_fan/id_00/normal\"\n",
    "normal_audio_files = glob(data_dir + '/*.wav')\n",
    "x = len(normal_audio_files)\n",
    "x"
   ]
  },
  {
   "cell_type": "code",
   "execution_count": 6,
   "id": "d0b87d73",
   "metadata": {},
   "outputs": [
    {
     "data": {
      "text/plain": [
       "0"
      ]
     },
     "execution_count": 6,
     "metadata": {},
     "output_type": "execute_result"
    }
   ],
   "source": [
    "data_dir = \"-6dB_fan/fan/id_00/abnormal\"\n",
    "abnormal_audio_files = glob(data_dir + '/*.wav')\n",
    "y = len(abnormal_audio_files)\n",
    "y\n"
   ]
  },
  {
   "cell_type": "code",
   "execution_count": 5,
   "id": "f8f60e96",
   "metadata": {},
   "outputs": [
    {
     "ename": "FileNotFoundError",
     "evalue": "[Errno 2] No such file or directory: 'csv_files/-6db/fan_id_00_normal.csv'",
     "output_type": "error",
     "traceback": [
      "\u001b[1;31m---------------------------------------------------------------------------\u001b[0m",
      "\u001b[1;31mFileNotFoundError\u001b[0m                         Traceback (most recent call last)",
      "\u001b[1;32m~\\AppData\\Local\\Temp/ipykernel_12136/2327918967.py\u001b[0m in \u001b[0;36m<module>\u001b[1;34m\u001b[0m\n\u001b[1;32m----> 1\u001b[1;33m \u001b[0mextracted_features_df\u001b[0m\u001b[1;33m=\u001b[0m\u001b[0mpd\u001b[0m\u001b[1;33m.\u001b[0m\u001b[0mread_csv\u001b[0m\u001b[1;33m(\u001b[0m\u001b[1;34m'csv_files/-6db/fan_id_00_normal.csv'\u001b[0m\u001b[1;33m)\u001b[0m\u001b[1;33m\u001b[0m\u001b[1;33m\u001b[0m\u001b[0m\n\u001b[0m",
      "\u001b[1;32m~\\anaconda3\\envs\\Machine-conditions-monitoring\\lib\\site-packages\\pandas\\util\\_decorators.py\u001b[0m in \u001b[0;36mwrapper\u001b[1;34m(*args, **kwargs)\u001b[0m\n\u001b[0;32m    309\u001b[0m                     \u001b[0mstacklevel\u001b[0m\u001b[1;33m=\u001b[0m\u001b[0mstacklevel\u001b[0m\u001b[1;33m,\u001b[0m\u001b[1;33m\u001b[0m\u001b[1;33m\u001b[0m\u001b[0m\n\u001b[0;32m    310\u001b[0m                 )\n\u001b[1;32m--> 311\u001b[1;33m             \u001b[1;32mreturn\u001b[0m \u001b[0mfunc\u001b[0m\u001b[1;33m(\u001b[0m\u001b[1;33m*\u001b[0m\u001b[0margs\u001b[0m\u001b[1;33m,\u001b[0m \u001b[1;33m**\u001b[0m\u001b[0mkwargs\u001b[0m\u001b[1;33m)\u001b[0m\u001b[1;33m\u001b[0m\u001b[1;33m\u001b[0m\u001b[0m\n\u001b[0m\u001b[0;32m    312\u001b[0m \u001b[1;33m\u001b[0m\u001b[0m\n\u001b[0;32m    313\u001b[0m         \u001b[1;32mreturn\u001b[0m \u001b[0mwrapper\u001b[0m\u001b[1;33m\u001b[0m\u001b[1;33m\u001b[0m\u001b[0m\n",
      "\u001b[1;32m~\\anaconda3\\envs\\Machine-conditions-monitoring\\lib\\site-packages\\pandas\\io\\parsers\\readers.py\u001b[0m in \u001b[0;36mread_csv\u001b[1;34m(filepath_or_buffer, sep, delimiter, header, names, index_col, usecols, squeeze, prefix, mangle_dupe_cols, dtype, engine, converters, true_values, false_values, skipinitialspace, skiprows, skipfooter, nrows, na_values, keep_default_na, na_filter, verbose, skip_blank_lines, parse_dates, infer_datetime_format, keep_date_col, date_parser, dayfirst, cache_dates, iterator, chunksize, compression, thousands, decimal, lineterminator, quotechar, quoting, doublequote, escapechar, comment, encoding, encoding_errors, dialect, error_bad_lines, warn_bad_lines, on_bad_lines, delim_whitespace, low_memory, memory_map, float_precision, storage_options)\u001b[0m\n\u001b[0;32m    584\u001b[0m     \u001b[0mkwds\u001b[0m\u001b[1;33m.\u001b[0m\u001b[0mupdate\u001b[0m\u001b[1;33m(\u001b[0m\u001b[0mkwds_defaults\u001b[0m\u001b[1;33m)\u001b[0m\u001b[1;33m\u001b[0m\u001b[1;33m\u001b[0m\u001b[0m\n\u001b[0;32m    585\u001b[0m \u001b[1;33m\u001b[0m\u001b[0m\n\u001b[1;32m--> 586\u001b[1;33m     \u001b[1;32mreturn\u001b[0m \u001b[0m_read\u001b[0m\u001b[1;33m(\u001b[0m\u001b[0mfilepath_or_buffer\u001b[0m\u001b[1;33m,\u001b[0m \u001b[0mkwds\u001b[0m\u001b[1;33m)\u001b[0m\u001b[1;33m\u001b[0m\u001b[1;33m\u001b[0m\u001b[0m\n\u001b[0m\u001b[0;32m    587\u001b[0m \u001b[1;33m\u001b[0m\u001b[0m\n\u001b[0;32m    588\u001b[0m \u001b[1;33m\u001b[0m\u001b[0m\n",
      "\u001b[1;32m~\\anaconda3\\envs\\Machine-conditions-monitoring\\lib\\site-packages\\pandas\\io\\parsers\\readers.py\u001b[0m in \u001b[0;36m_read\u001b[1;34m(filepath_or_buffer, kwds)\u001b[0m\n\u001b[0;32m    480\u001b[0m \u001b[1;33m\u001b[0m\u001b[0m\n\u001b[0;32m    481\u001b[0m     \u001b[1;31m# Create the parser.\u001b[0m\u001b[1;33m\u001b[0m\u001b[1;33m\u001b[0m\u001b[1;33m\u001b[0m\u001b[0m\n\u001b[1;32m--> 482\u001b[1;33m     \u001b[0mparser\u001b[0m \u001b[1;33m=\u001b[0m \u001b[0mTextFileReader\u001b[0m\u001b[1;33m(\u001b[0m\u001b[0mfilepath_or_buffer\u001b[0m\u001b[1;33m,\u001b[0m \u001b[1;33m**\u001b[0m\u001b[0mkwds\u001b[0m\u001b[1;33m)\u001b[0m\u001b[1;33m\u001b[0m\u001b[1;33m\u001b[0m\u001b[0m\n\u001b[0m\u001b[0;32m    483\u001b[0m \u001b[1;33m\u001b[0m\u001b[0m\n\u001b[0;32m    484\u001b[0m     \u001b[1;32mif\u001b[0m \u001b[0mchunksize\u001b[0m \u001b[1;32mor\u001b[0m \u001b[0miterator\u001b[0m\u001b[1;33m:\u001b[0m\u001b[1;33m\u001b[0m\u001b[1;33m\u001b[0m\u001b[0m\n",
      "\u001b[1;32m~\\anaconda3\\envs\\Machine-conditions-monitoring\\lib\\site-packages\\pandas\\io\\parsers\\readers.py\u001b[0m in \u001b[0;36m__init__\u001b[1;34m(self, f, engine, **kwds)\u001b[0m\n\u001b[0;32m    809\u001b[0m             \u001b[0mself\u001b[0m\u001b[1;33m.\u001b[0m\u001b[0moptions\u001b[0m\u001b[1;33m[\u001b[0m\u001b[1;34m\"has_index_names\"\u001b[0m\u001b[1;33m]\u001b[0m \u001b[1;33m=\u001b[0m \u001b[0mkwds\u001b[0m\u001b[1;33m[\u001b[0m\u001b[1;34m\"has_index_names\"\u001b[0m\u001b[1;33m]\u001b[0m\u001b[1;33m\u001b[0m\u001b[1;33m\u001b[0m\u001b[0m\n\u001b[0;32m    810\u001b[0m \u001b[1;33m\u001b[0m\u001b[0m\n\u001b[1;32m--> 811\u001b[1;33m         \u001b[0mself\u001b[0m\u001b[1;33m.\u001b[0m\u001b[0m_engine\u001b[0m \u001b[1;33m=\u001b[0m \u001b[0mself\u001b[0m\u001b[1;33m.\u001b[0m\u001b[0m_make_engine\u001b[0m\u001b[1;33m(\u001b[0m\u001b[0mself\u001b[0m\u001b[1;33m.\u001b[0m\u001b[0mengine\u001b[0m\u001b[1;33m)\u001b[0m\u001b[1;33m\u001b[0m\u001b[1;33m\u001b[0m\u001b[0m\n\u001b[0m\u001b[0;32m    812\u001b[0m \u001b[1;33m\u001b[0m\u001b[0m\n\u001b[0;32m    813\u001b[0m     \u001b[1;32mdef\u001b[0m \u001b[0mclose\u001b[0m\u001b[1;33m(\u001b[0m\u001b[0mself\u001b[0m\u001b[1;33m)\u001b[0m\u001b[1;33m:\u001b[0m\u001b[1;33m\u001b[0m\u001b[1;33m\u001b[0m\u001b[0m\n",
      "\u001b[1;32m~\\anaconda3\\envs\\Machine-conditions-monitoring\\lib\\site-packages\\pandas\\io\\parsers\\readers.py\u001b[0m in \u001b[0;36m_make_engine\u001b[1;34m(self, engine)\u001b[0m\n\u001b[0;32m   1038\u001b[0m             )\n\u001b[0;32m   1039\u001b[0m         \u001b[1;31m# error: Too many arguments for \"ParserBase\"\u001b[0m\u001b[1;33m\u001b[0m\u001b[1;33m\u001b[0m\u001b[1;33m\u001b[0m\u001b[0m\n\u001b[1;32m-> 1040\u001b[1;33m         \u001b[1;32mreturn\u001b[0m \u001b[0mmapping\u001b[0m\u001b[1;33m[\u001b[0m\u001b[0mengine\u001b[0m\u001b[1;33m]\u001b[0m\u001b[1;33m(\u001b[0m\u001b[0mself\u001b[0m\u001b[1;33m.\u001b[0m\u001b[0mf\u001b[0m\u001b[1;33m,\u001b[0m \u001b[1;33m**\u001b[0m\u001b[0mself\u001b[0m\u001b[1;33m.\u001b[0m\u001b[0moptions\u001b[0m\u001b[1;33m)\u001b[0m  \u001b[1;31m# type: ignore[call-arg]\u001b[0m\u001b[1;33m\u001b[0m\u001b[1;33m\u001b[0m\u001b[0m\n\u001b[0m\u001b[0;32m   1041\u001b[0m \u001b[1;33m\u001b[0m\u001b[0m\n\u001b[0;32m   1042\u001b[0m     \u001b[1;32mdef\u001b[0m \u001b[0m_failover_to_python\u001b[0m\u001b[1;33m(\u001b[0m\u001b[0mself\u001b[0m\u001b[1;33m)\u001b[0m\u001b[1;33m:\u001b[0m\u001b[1;33m\u001b[0m\u001b[1;33m\u001b[0m\u001b[0m\n",
      "\u001b[1;32m~\\anaconda3\\envs\\Machine-conditions-monitoring\\lib\\site-packages\\pandas\\io\\parsers\\c_parser_wrapper.py\u001b[0m in \u001b[0;36m__init__\u001b[1;34m(self, src, **kwds)\u001b[0m\n\u001b[0;32m     49\u001b[0m \u001b[1;33m\u001b[0m\u001b[0m\n\u001b[0;32m     50\u001b[0m         \u001b[1;31m# open handles\u001b[0m\u001b[1;33m\u001b[0m\u001b[1;33m\u001b[0m\u001b[1;33m\u001b[0m\u001b[0m\n\u001b[1;32m---> 51\u001b[1;33m         \u001b[0mself\u001b[0m\u001b[1;33m.\u001b[0m\u001b[0m_open_handles\u001b[0m\u001b[1;33m(\u001b[0m\u001b[0msrc\u001b[0m\u001b[1;33m,\u001b[0m \u001b[0mkwds\u001b[0m\u001b[1;33m)\u001b[0m\u001b[1;33m\u001b[0m\u001b[1;33m\u001b[0m\u001b[0m\n\u001b[0m\u001b[0;32m     52\u001b[0m         \u001b[1;32massert\u001b[0m \u001b[0mself\u001b[0m\u001b[1;33m.\u001b[0m\u001b[0mhandles\u001b[0m \u001b[1;32mis\u001b[0m \u001b[1;32mnot\u001b[0m \u001b[1;32mNone\u001b[0m\u001b[1;33m\u001b[0m\u001b[1;33m\u001b[0m\u001b[0m\n\u001b[0;32m     53\u001b[0m \u001b[1;33m\u001b[0m\u001b[0m\n",
      "\u001b[1;32m~\\anaconda3\\envs\\Machine-conditions-monitoring\\lib\\site-packages\\pandas\\io\\parsers\\base_parser.py\u001b[0m in \u001b[0;36m_open_handles\u001b[1;34m(self, src, kwds)\u001b[0m\n\u001b[0;32m    220\u001b[0m         \u001b[0mLet\u001b[0m \u001b[0mthe\u001b[0m \u001b[0mreaders\u001b[0m \u001b[0mopen\u001b[0m \u001b[0mIOHandles\u001b[0m \u001b[0mafter\u001b[0m \u001b[0mthey\u001b[0m \u001b[0mare\u001b[0m \u001b[0mdone\u001b[0m \u001b[1;32mwith\u001b[0m \u001b[0mtheir\u001b[0m \u001b[0mpotential\u001b[0m \u001b[0mraises\u001b[0m\u001b[1;33m.\u001b[0m\u001b[1;33m\u001b[0m\u001b[1;33m\u001b[0m\u001b[0m\n\u001b[0;32m    221\u001b[0m         \"\"\"\n\u001b[1;32m--> 222\u001b[1;33m         self.handles = get_handle(\n\u001b[0m\u001b[0;32m    223\u001b[0m             \u001b[0msrc\u001b[0m\u001b[1;33m,\u001b[0m\u001b[1;33m\u001b[0m\u001b[1;33m\u001b[0m\u001b[0m\n\u001b[0;32m    224\u001b[0m             \u001b[1;34m\"r\"\u001b[0m\u001b[1;33m,\u001b[0m\u001b[1;33m\u001b[0m\u001b[1;33m\u001b[0m\u001b[0m\n",
      "\u001b[1;32m~\\anaconda3\\envs\\Machine-conditions-monitoring\\lib\\site-packages\\pandas\\io\\common.py\u001b[0m in \u001b[0;36mget_handle\u001b[1;34m(path_or_buf, mode, encoding, compression, memory_map, is_text, errors, storage_options)\u001b[0m\n\u001b[0;32m    700\u001b[0m         \u001b[1;32mif\u001b[0m \u001b[0mioargs\u001b[0m\u001b[1;33m.\u001b[0m\u001b[0mencoding\u001b[0m \u001b[1;32mand\u001b[0m \u001b[1;34m\"b\"\u001b[0m \u001b[1;32mnot\u001b[0m \u001b[1;32min\u001b[0m \u001b[0mioargs\u001b[0m\u001b[1;33m.\u001b[0m\u001b[0mmode\u001b[0m\u001b[1;33m:\u001b[0m\u001b[1;33m\u001b[0m\u001b[1;33m\u001b[0m\u001b[0m\n\u001b[0;32m    701\u001b[0m             \u001b[1;31m# Encoding\u001b[0m\u001b[1;33m\u001b[0m\u001b[1;33m\u001b[0m\u001b[1;33m\u001b[0m\u001b[0m\n\u001b[1;32m--> 702\u001b[1;33m             handle = open(\n\u001b[0m\u001b[0;32m    703\u001b[0m                 \u001b[0mhandle\u001b[0m\u001b[1;33m,\u001b[0m\u001b[1;33m\u001b[0m\u001b[1;33m\u001b[0m\u001b[0m\n\u001b[0;32m    704\u001b[0m                 \u001b[0mioargs\u001b[0m\u001b[1;33m.\u001b[0m\u001b[0mmode\u001b[0m\u001b[1;33m,\u001b[0m\u001b[1;33m\u001b[0m\u001b[1;33m\u001b[0m\u001b[0m\n",
      "\u001b[1;31mFileNotFoundError\u001b[0m: [Errno 2] No such file or directory: 'csv_files/-6db/fan_id_00_normal.csv'"
     ]
    }
   ],
   "source": [
    "extracted_features_df=pd.read_csv('csv_files/-6db/fan_id_00_normal.csv')"
   ]
  },
  {
   "cell_type": "code",
   "execution_count": null,
   "id": "35e47a59",
   "metadata": {},
   "outputs": [],
   "source": [
    "extracted_features_df"
   ]
  },
  {
   "cell_type": "code",
   "execution_count": 69,
   "id": "09d038e7",
   "metadata": {},
   "outputs": [],
   "source": [
    "y_specs = []"
   ]
  },
  {
   "cell_type": "code",
   "execution_count": 72,
   "id": "ec3075a7",
   "metadata": {},
   "outputs": [
    {
     "name": "stderr",
     "output_type": "stream",
     "text": [
      "100%|██████████████████████████████████████████████████████████████████████████████| 1011/1011 [03:15<00:00,  5.17it/s]\n"
     ]
    }
   ],
   "source": [
    "for file in tqdm(normal_audio_files):\n",
    "    file_name = file\n",
    "    data, sr = librosa.load(file_name)\n",
    "    y_min = data.min()\n",
    "    y_max = data.max()\n",
    "    y_mean = data.mean()\n",
    "    y_std = data.std()\n",
    "    \n",
    "    y_specs.append([y_min,y_max,y_mean,y_std])"
   ]
  },
  {
   "cell_type": "code",
   "execution_count": 73,
   "id": "e2cdab01",
   "metadata": {},
   "outputs": [
    {
     "name": "stderr",
     "output_type": "stream",
     "text": [
      "100%|████████████████████████████████████████████████████████████████████████████████| 407/407 [01:18<00:00,  5.20it/s]\n"
     ]
    }
   ],
   "source": [
    "for file in tqdm(abnormal_audio_files):\n",
    "    file_name = file\n",
    "    data, sr = librosa.load(file_name)\n",
    "    y_min = data.min()\n",
    "    y_max = data.max()\n",
    "    y_mean = data.mean()\n",
    "    y_std = data.std()\n",
    "    \n",
    "    y_specs.append([y_min,y_max,y_mean,y_std])"
   ]
  },
  {
   "cell_type": "code",
   "execution_count": 98,
   "id": "143b8f04",
   "metadata": {},
   "outputs": [],
   "source": [
    "y_specs = np.array(y_specs)"
   ]
  },
  {
   "cell_type": "code",
   "execution_count": 101,
   "id": "781aba1a",
   "metadata": {},
   "outputs": [
    {
     "name": "stdout",
     "output_type": "stream",
     "text": [
      "0 y_min\n",
      "1 y_max\n",
      "2 y_mean\n",
      "3 y_std\n"
     ]
    },
    {
     "data": {
      "text/html": [
       "<div>\n",
       "<style scoped>\n",
       "    .dataframe tbody tr th:only-of-type {\n",
       "        vertical-align: middle;\n",
       "    }\n",
       "\n",
       "    .dataframe tbody tr th {\n",
       "        vertical-align: top;\n",
       "    }\n",
       "\n",
       "    .dataframe thead th {\n",
       "        text-align: right;\n",
       "    }\n",
       "</style>\n",
       "<table border=\"1\" class=\"dataframe\">\n",
       "  <thead>\n",
       "    <tr style=\"text-align: right;\">\n",
       "      <th></th>\n",
       "      <th>file_name</th>\n",
       "      <th>zcr</th>\n",
       "      <th>spec_band_sum</th>\n",
       "      <th>spec_band_max</th>\n",
       "      <th>spec_band_min</th>\n",
       "      <th>spec_band_mean</th>\n",
       "      <th>spec_band_std</th>\n",
       "      <th>rmse_mean</th>\n",
       "      <th>class</th>\n",
       "      <th>y_min</th>\n",
       "      <th>y_max</th>\n",
       "      <th>y_mean</th>\n",
       "      <th>y_std</th>\n",
       "    </tr>\n",
       "  </thead>\n",
       "  <tbody>\n",
       "    <tr>\n",
       "      <th>0</th>\n",
       "      <td>-6dB_fan/fan/id_00/normal\\00000000.wav</td>\n",
       "      <td>0.033</td>\n",
       "      <td>553328.314402</td>\n",
       "      <td>2186.859945</td>\n",
       "      <td>1199.106924</td>\n",
       "      <td>1283.824395</td>\n",
       "      <td>56.193976</td>\n",
       "      <td>0.010253</td>\n",
       "      <td>0</td>\n",
       "      <td>-0.042073</td>\n",
       "      <td>0.047081</td>\n",
       "      <td>-7.359320e-06</td>\n",
       "      <td>0.010293</td>\n",
       "    </tr>\n",
       "    <tr>\n",
       "      <th>1</th>\n",
       "      <td>-6dB_fan/fan/id_00/normal\\00000001.wav</td>\n",
       "      <td>0.074</td>\n",
       "      <td>754206.782847</td>\n",
       "      <td>1964.498781</td>\n",
       "      <td>1601.458971</td>\n",
       "      <td>1749.899728</td>\n",
       "      <td>46.057723</td>\n",
       "      <td>0.009026</td>\n",
       "      <td>0</td>\n",
       "      <td>-0.036983</td>\n",
       "      <td>0.035768</td>\n",
       "      <td>-6.922498e-07</td>\n",
       "      <td>0.009064</td>\n",
       "    </tr>\n",
       "    <tr>\n",
       "      <th>2</th>\n",
       "      <td>-6dB_fan/fan/id_00/normal\\00000002.wav</td>\n",
       "      <td>0.044</td>\n",
       "      <td>610831.291691</td>\n",
       "      <td>1611.333345</td>\n",
       "      <td>1322.125918</td>\n",
       "      <td>1417.241976</td>\n",
       "      <td>31.888845</td>\n",
       "      <td>0.010177</td>\n",
       "      <td>0</td>\n",
       "      <td>-0.041308</td>\n",
       "      <td>0.043374</td>\n",
       "      <td>-1.956126e-06</td>\n",
       "      <td>0.010220</td>\n",
       "    </tr>\n",
       "    <tr>\n",
       "      <th>3</th>\n",
       "      <td>-6dB_fan/fan/id_00/normal\\00000003.wav</td>\n",
       "      <td>0.090</td>\n",
       "      <td>768171.338788</td>\n",
       "      <td>1903.834562</td>\n",
       "      <td>1646.409253</td>\n",
       "      <td>1782.300090</td>\n",
       "      <td>47.540587</td>\n",
       "      <td>0.008910</td>\n",
       "      <td>0</td>\n",
       "      <td>-0.036632</td>\n",
       "      <td>0.036621</td>\n",
       "      <td>-2.262496e-06</td>\n",
       "      <td>0.008968</td>\n",
       "    </tr>\n",
       "    <tr>\n",
       "      <th>4</th>\n",
       "      <td>-6dB_fan/fan/id_00/normal\\00000004.wav</td>\n",
       "      <td>0.026</td>\n",
       "      <td>601052.624223</td>\n",
       "      <td>1859.185695</td>\n",
       "      <td>1245.459978</td>\n",
       "      <td>1394.553652</td>\n",
       "      <td>89.329761</td>\n",
       "      <td>0.010531</td>\n",
       "      <td>0</td>\n",
       "      <td>-0.052299</td>\n",
       "      <td>0.051868</td>\n",
       "      <td>-2.138482e-06</td>\n",
       "      <td>0.010785</td>\n",
       "    </tr>\n",
       "    <tr>\n",
       "      <th>...</th>\n",
       "      <td>...</td>\n",
       "      <td>...</td>\n",
       "      <td>...</td>\n",
       "      <td>...</td>\n",
       "      <td>...</td>\n",
       "      <td>...</td>\n",
       "      <td>...</td>\n",
       "      <td>...</td>\n",
       "      <td>...</td>\n",
       "      <td>...</td>\n",
       "      <td>...</td>\n",
       "      <td>...</td>\n",
       "      <td>...</td>\n",
       "    </tr>\n",
       "    <tr>\n",
       "      <th>1413</th>\n",
       "      <td>-6dB_fan/fan/id_00/abnormal\\00000402.wav</td>\n",
       "      <td>0.060</td>\n",
       "      <td>589684.631613</td>\n",
       "      <td>1991.972897</td>\n",
       "      <td>1016.851359</td>\n",
       "      <td>1368.177800</td>\n",
       "      <td>188.335089</td>\n",
       "      <td>0.009734</td>\n",
       "      <td>1</td>\n",
       "      <td>-0.080353</td>\n",
       "      <td>0.079435</td>\n",
       "      <td>-2.909642e-06</td>\n",
       "      <td>0.010613</td>\n",
       "    </tr>\n",
       "    <tr>\n",
       "      <th>1414</th>\n",
       "      <td>-6dB_fan/fan/id_00/abnormal\\00000403.wav</td>\n",
       "      <td>0.070</td>\n",
       "      <td>661583.479851</td>\n",
       "      <td>2016.924958</td>\n",
       "      <td>1288.197948</td>\n",
       "      <td>1534.996473</td>\n",
       "      <td>116.475586</td>\n",
       "      <td>0.010159</td>\n",
       "      <td>1</td>\n",
       "      <td>-0.049392</td>\n",
       "      <td>0.041839</td>\n",
       "      <td>-6.262130e-06</td>\n",
       "      <td>0.010208</td>\n",
       "    </tr>\n",
       "    <tr>\n",
       "      <th>1415</th>\n",
       "      <td>-6dB_fan/fan/id_00/abnormal\\00000404.wav</td>\n",
       "      <td>0.038</td>\n",
       "      <td>580425.358225</td>\n",
       "      <td>2010.045068</td>\n",
       "      <td>1247.780494</td>\n",
       "      <td>1346.694567</td>\n",
       "      <td>46.210524</td>\n",
       "      <td>0.010522</td>\n",
       "      <td>1</td>\n",
       "      <td>-0.042902</td>\n",
       "      <td>0.047687</td>\n",
       "      <td>6.785936e-07</td>\n",
       "      <td>0.010568</td>\n",
       "    </tr>\n",
       "    <tr>\n",
       "      <th>1416</th>\n",
       "      <td>-6dB_fan/fan/id_00/abnormal\\00000405.wav</td>\n",
       "      <td>0.029</td>\n",
       "      <td>568262.217837</td>\n",
       "      <td>1917.085187</td>\n",
       "      <td>1162.319349</td>\n",
       "      <td>1318.473823</td>\n",
       "      <td>122.268276</td>\n",
       "      <td>0.010673</td>\n",
       "      <td>1</td>\n",
       "      <td>-0.051811</td>\n",
       "      <td>0.045138</td>\n",
       "      <td>-8.994813e-06</td>\n",
       "      <td>0.010715</td>\n",
       "    </tr>\n",
       "    <tr>\n",
       "      <th>1417</th>\n",
       "      <td>-6dB_fan/fan/id_00/abnormal\\00000406.wav</td>\n",
       "      <td>0.045</td>\n",
       "      <td>581964.716022</td>\n",
       "      <td>1659.579716</td>\n",
       "      <td>1257.538127</td>\n",
       "      <td>1350.266162</td>\n",
       "      <td>36.875840</td>\n",
       "      <td>0.010637</td>\n",
       "      <td>1</td>\n",
       "      <td>-0.043231</td>\n",
       "      <td>0.040996</td>\n",
       "      <td>-6.519902e-07</td>\n",
       "      <td>0.010699</td>\n",
       "    </tr>\n",
       "  </tbody>\n",
       "</table>\n",
       "<p>1418 rows × 13 columns</p>\n",
       "</div>"
      ],
      "text/plain": [
       "                                     file_name    zcr  spec_band_sum  \\\n",
       "0       -6dB_fan/fan/id_00/normal\\00000000.wav  0.033  553328.314402   \n",
       "1       -6dB_fan/fan/id_00/normal\\00000001.wav  0.074  754206.782847   \n",
       "2       -6dB_fan/fan/id_00/normal\\00000002.wav  0.044  610831.291691   \n",
       "3       -6dB_fan/fan/id_00/normal\\00000003.wav  0.090  768171.338788   \n",
       "4       -6dB_fan/fan/id_00/normal\\00000004.wav  0.026  601052.624223   \n",
       "...                                        ...    ...            ...   \n",
       "1413  -6dB_fan/fan/id_00/abnormal\\00000402.wav  0.060  589684.631613   \n",
       "1414  -6dB_fan/fan/id_00/abnormal\\00000403.wav  0.070  661583.479851   \n",
       "1415  -6dB_fan/fan/id_00/abnormal\\00000404.wav  0.038  580425.358225   \n",
       "1416  -6dB_fan/fan/id_00/abnormal\\00000405.wav  0.029  568262.217837   \n",
       "1417  -6dB_fan/fan/id_00/abnormal\\00000406.wav  0.045  581964.716022   \n",
       "\n",
       "      spec_band_max  spec_band_min  spec_band_mean  spec_band_std  rmse_mean  \\\n",
       "0       2186.859945    1199.106924     1283.824395      56.193976   0.010253   \n",
       "1       1964.498781    1601.458971     1749.899728      46.057723   0.009026   \n",
       "2       1611.333345    1322.125918     1417.241976      31.888845   0.010177   \n",
       "3       1903.834562    1646.409253     1782.300090      47.540587   0.008910   \n",
       "4       1859.185695    1245.459978     1394.553652      89.329761   0.010531   \n",
       "...             ...            ...             ...            ...        ...   \n",
       "1413    1991.972897    1016.851359     1368.177800     188.335089   0.009734   \n",
       "1414    2016.924958    1288.197948     1534.996473     116.475586   0.010159   \n",
       "1415    2010.045068    1247.780494     1346.694567      46.210524   0.010522   \n",
       "1416    1917.085187    1162.319349     1318.473823     122.268276   0.010673   \n",
       "1417    1659.579716    1257.538127     1350.266162      36.875840   0.010637   \n",
       "\n",
       "      class     y_min     y_max        y_mean     y_std  \n",
       "0         0 -0.042073  0.047081 -7.359320e-06  0.010293  \n",
       "1         0 -0.036983  0.035768 -6.922498e-07  0.009064  \n",
       "2         0 -0.041308  0.043374 -1.956126e-06  0.010220  \n",
       "3         0 -0.036632  0.036621 -2.262496e-06  0.008968  \n",
       "4         0 -0.052299  0.051868 -2.138482e-06  0.010785  \n",
       "...     ...       ...       ...           ...       ...  \n",
       "1413      1 -0.080353  0.079435 -2.909642e-06  0.010613  \n",
       "1414      1 -0.049392  0.041839 -6.262130e-06  0.010208  \n",
       "1415      1 -0.042902  0.047687  6.785936e-07  0.010568  \n",
       "1416      1 -0.051811  0.045138 -8.994813e-06  0.010715  \n",
       "1417      1 -0.043231  0.040996 -6.519902e-07  0.010699  \n",
       "\n",
       "[1418 rows x 13 columns]"
      ]
     },
     "execution_count": 101,
     "metadata": {},
     "output_type": "execute_result"
    }
   ],
   "source": [
    "y_cols =['y_min','y_max','y_mean','y_std']\n",
    "for i,name in enumerate(y_cols):\n",
    "    print(i,name)\n",
    "    extracted_features_df[name]=y_specs[:,i]\n",
    "\n",
    "extracted_features_df\n",
    "    \n",
    "    "
   ]
  },
  {
   "cell_type": "code",
   "execution_count": 135,
   "id": "82c1682f",
   "metadata": {},
   "outputs": [],
   "source": [
    "extracted_features_df.to_csv('csv_files/-6db/fan_id_00_normal.csv',index=False)"
   ]
  },
  {
   "cell_type": "code",
   "execution_count": null,
   "id": "6b5db9ee",
   "metadata": {},
   "outputs": [],
   "source": []
  },
  {
   "cell_type": "code",
   "execution_count": 106,
   "id": "d3d04b73",
   "metadata": {},
   "outputs": [
    {
     "name": "stdout",
     "output_type": "stream",
     "text": [
      "zcr: -0.10930470303878594, threshold:0.1, boolean:True\n",
      "spec_band_sum: -0.06542224939287412, threshold:0.1, boolean:False\n",
      "spec_band_max: -0.011468991200941388, threshold:0.1, boolean:False\n",
      "spec_band_min: -0.07141624528573425, threshold:0.1, boolean:False\n",
      "spec_band_mean: -0.06542224939287421, threshold:0.1, boolean:False\n",
      "spec_band_std: 0.02054083793113262, threshold:0.1, boolean:False\n",
      "rmse_mean: 0.43549674057780924, threshold:0.1, boolean:True\n",
      "y_min: -0.20560460854601845, threshold:0.1, boolean:True\n",
      "y_max: 0.16266834484743958, threshold:0.1, boolean:True\n",
      "y_mean: -0.007552479433436432, threshold:0.1, boolean:False\n"
     ]
    }
   ],
   "source": [
    "def filter_features(df,y,treshold=0.10):\n",
    "    relevant_features_indx = []\n",
    "    for i in range(len(df.columns)):\n",
    "        print(f\"{df.columns[i]}: {np.corrcoef(df.values[:,i],np.reshape(y,-1))[1][0]}, threshold:{treshold}, boolean:{abs(np.corrcoef(df.values[:,i],np.reshape(y,-1))[1][0]) >treshold}\")\n",
    "        if abs(np.corrcoef(df.values[:,i],np.reshape(y,-1))[1][0]) >treshold:\n",
    "            relevant_features_indx.append(i)\n",
    "    return relevant_features_indx\n",
    "\n",
    "f_cols = filter_features(extracted_features_df.drop([\"file_name\",\"class\"],axis=1).iloc[:,:-1],extracted_features_df.loc[:,'class'].values,treshold=0.10)\n"
   ]
  },
  {
   "cell_type": "code",
   "execution_count": 146,
   "id": "01f3dfc3",
   "metadata": {},
   "outputs": [],
   "source": [
    "X_train, X_test, y_train, y_test = train_test_split(extracted_features_df.loc[:,['rmse_mean']].values, extracted_features_df.loc[:,'class'].values, test_size=0.3, random_state=42)"
   ]
  },
  {
   "cell_type": "code",
   "execution_count": 147,
   "id": "c003e1e3",
   "metadata": {},
   "outputs": [],
   "source": [
    "pipeline_lr = Pipeline([('scalar1',StandardScaler()),\n",
    "                        ('lr_classifier',LogisticRegression(random_state=0))])\n",
    "\n",
    "pipeline_rf = Pipeline([('scalar2',StandardScaler()),\n",
    "                        ('rf_classifier',RandomForestClassifier(n_estimators=int((len(extracted_features_df.columns)**0.5//1)), criterion= 'entropy',random_state=0))])\n",
    "\n",
    "pipeline_dt = Pipeline([('scalar3',StandardScaler()),\n",
    "                        ('dt_classifier',DecisionTreeClassifier(criterion=\"entropy\",random_state=0))])\n",
    "\n",
    "pipeline_GaussianNB = Pipeline([('scalar4',StandardScaler()),\n",
    "                        ('dt_classifier',GaussianNB())])\n"
   ]
  },
  {
   "cell_type": "code",
   "execution_count": 148,
   "id": "d314ad32",
   "metadata": {},
   "outputs": [],
   "source": [
    "pipelines = [pipeline_lr,pipeline_rf,pipeline_dt,pipeline_GaussianNB]\n",
    "\n",
    "pipe_dict = {0:'Logistic Regression',1:'Random Forest',2:'Decision Tree',3:'GaussianNB'}"
   ]
  },
  {
   "cell_type": "code",
   "execution_count": 149,
   "id": "4853203f",
   "metadata": {},
   "outputs": [],
   "source": [
    "for pipe in pipelines:\n",
    "    pipe.fit(X_train,y_train)"
   ]
  },
  {
   "cell_type": "code",
   "execution_count": 150,
   "id": "c2b1089d",
   "metadata": {},
   "outputs": [],
   "source": [
    "best_accuracy=0.0\n",
    "best_classifier_indx = 0\n",
    "best_pipeline=\"\""
   ]
  },
  {
   "cell_type": "code",
   "execution_count": 151,
   "id": "f96443b7",
   "metadata": {},
   "outputs": [
    {
     "name": "stdout",
     "output_type": "stream",
     "text": [
      "Logistic Regression test accuracy: 0.8286384976525821 \n",
      "Random Forest test accuracy: 0.7417840375586855 \n",
      "Decision Tree test accuracy: 0.7089201877934272 \n",
      "GaussianNB test accuracy: 0.8286384976525821 \n",
      "Classifier with the best accuracy:Logistic Regression\n"
     ]
    }
   ],
   "source": [
    "for i,model in enumerate(pipelines):\n",
    "    print(f\"{pipe_dict[i]} test accuracy: {model.score(X_test,y_test)} \")\n",
    "    if model.score(X_test,y_test)>best_accuracy:\n",
    "        best_accuracy=  model.score(X_test,y_test)\n",
    "        best_pipeline=model\n",
    "        best_classifier_idnx = i\n",
    "print(f\"Classifier with the best accuracy:{pipe_dict[best_classifier_idnx]}\")"
   ]
  },
  {
   "cell_type": "code",
   "execution_count": 137,
   "id": "42af5e00",
   "metadata": {},
   "outputs": [
    {
     "name": "stderr",
     "output_type": "stream",
     "text": [
      "  0%|                                                                                         | 0/1011 [00:00<?, ?it/s]\n"
     ]
    },
    {
     "ename": "NameError",
     "evalue": "name 'zero_crossing_rate' is not defined",
     "output_type": "error",
     "traceback": [
      "\u001b[1;31m---------------------------------------------------------------------------\u001b[0m",
      "\u001b[1;31mNameError\u001b[0m                                 Traceback (most recent call last)",
      "\u001b[1;32m~\\AppData\\Local\\Temp/ipykernel_10304/1127471717.py\u001b[0m in \u001b[0;36m<module>\u001b[1;34m\u001b[0m\n\u001b[0;32m     17\u001b[0m     \u001b[0my_std\u001b[0m \u001b[1;33m=\u001b[0m \u001b[0mdata\u001b[0m\u001b[1;33m.\u001b[0m\u001b[0mstd\u001b[0m\u001b[1;33m(\u001b[0m\u001b[1;33m)\u001b[0m\u001b[1;33m\u001b[0m\u001b[1;33m\u001b[0m\u001b[0m\n\u001b[0;32m     18\u001b[0m \u001b[1;33m\u001b[0m\u001b[0m\n\u001b[1;32m---> 19\u001b[1;33m     \u001b[0mzcr\u001b[0m \u001b[1;33m=\u001b[0m \u001b[0mzero_crossing_rate\u001b[0m\u001b[1;33m(\u001b[0m\u001b[0mdata\u001b[0m\u001b[1;33m)\u001b[0m\u001b[1;33m\u001b[0m\u001b[1;33m\u001b[0m\u001b[0m\n\u001b[0m\u001b[0;32m     20\u001b[0m     \u001b[0mzcr_mean\u001b[0m \u001b[1;33m=\u001b[0m \u001b[0mzcr\u001b[0m\u001b[1;33m.\u001b[0m\u001b[0mmean\u001b[0m\u001b[1;33m(\u001b[0m\u001b[1;33m)\u001b[0m\u001b[1;33m\u001b[0m\u001b[1;33m\u001b[0m\u001b[0m\n\u001b[0;32m     21\u001b[0m     \u001b[0mzcr_max\u001b[0m \u001b[1;33m=\u001b[0m \u001b[0mzcr\u001b[0m\u001b[1;33m.\u001b[0m\u001b[0mmax\u001b[0m\u001b[1;33m(\u001b[0m\u001b[1;33m)\u001b[0m\u001b[1;33m\u001b[0m\u001b[1;33m\u001b[0m\u001b[0m\n",
      "\u001b[1;31mNameError\u001b[0m: name 'zero_crossing_rate' is not defined"
     ]
    }
   ],
   "source": [
    "data_dir = \"0dB_fan/fan/id_00/normal\"\n",
    "normal_audio_files = glob(data_dir + '/*.wav')\n",
    "\n",
    "data_dir = \"0dB_fan/fan/id_00/abnormal\"\n",
    "abnormal_audio_files = glob(data_dir + '/*.wav')\n",
    "\n",
    "from tqdm import tqdm\n",
    "extracted_feature = []\n",
    "\n",
    "for file in tqdm(normal_audio_files):\n",
    "    file_name = file\n",
    "    class_label = 0 # 0 for normal.\n",
    "    data, sr = librosa.load(file_name)\n",
    "   \n",
    "\n",
    "    rms = rmse(data)\n",
    "    rms_mean = rms.mean()\n",
    "        \n",
    "   \n",
    "\n",
    "    extracted_feature.append([file_name,rms_mean,class])"
   ]
  },
  {
   "cell_type": "code",
   "execution_count": null,
   "id": "4f7db7fa",
   "metadata": {},
   "outputs": [],
   "source": [
    "for file in tqdm(abnorm_audio_files):\n",
    "    file_name = file\n",
    "    class_label = 1 # 1 for abnormal.\n",
    "    data, sr = librosa.load(file_name)\n",
    "    y_min = data.min()\n",
    "    y_max = data.max()\n",
    "    y_mean = data.mean()\n",
    "    y_std = data.std()\n",
    "    \n",
    "    zcr = zero_crossing_rate(data)\n",
    "    zcr_mean = zcr.mean()\n",
    "    zcr_max = zcr.max()\n",
    "    zcr_min = zcr.min()\n",
    "    \n",
    "    spec_cent = spec_centroid(data,sr)\n",
    "    spec_cent_min = spec_cent.min()\n",
    "    spec_cent_mean = spec_cent.mean()\n",
    "\n",
    "    spec_roll = spec_rolloff(data, sr)\n",
    "    spec_roll_min = spec_roll.min()  \n",
    "    spec_roll_mean = spec_roll.mean() \n",
    "\n",
    "    rms = rmse(data)\n",
    "    rms_mean = rms.mean()\n",
    "        \n",
    "    flat = flatness(data)\n",
    "    flat_mean = flat.mean()\n",
    "    flat_max = flat.max()\n",
    "        \n",
    "    amplitude = amplitude_envelope(data)\n",
    "    amp_mean = amplitude.mean()\n",
    "    amp_min = amplitude.min()\n",
    "        \n",
    "    mel_spec = mel_spectrogram(data,sr)\n",
    "    melspec_mean = mel_spec.mean()\n",
    "    melspec_std = mel_spec.std()\n",
    "\n",
    "    extracted_feature.append([file_name, y_min, y_max, y_mean, y_std, zcr_mean, zcr_min, zcr_max,\n",
    "                              spec_cent_min, spec_cent_mean, spec_roll_min, spec_roll_mean, rms_mean,\n",
    "                              flat_mean, flat_max, amp_mean, amp_min, melspec_mean, melspec_std, class_label])"
   ]
  },
  {
   "cell_type": "code",
   "execution_count": 157,
   "id": "56e6ee4a",
   "metadata": {},
   "outputs": [],
   "source": [
    "extracted_features_df2=pd.read_csv('csv_files/0db/id_00_normal.csv')"
   ]
  },
  {
   "cell_type": "code",
   "execution_count": 158,
   "id": "523dcde2",
   "metadata": {},
   "outputs": [],
   "source": [
    "def filter_features(df,y,treshold=0.10):\n",
    "    relevant_features_indx = []\n",
    "    for i in range(len(df.columns)):\n",
    "        print(f\"{df.columns[i]}: {np.corrcoef(df.values[:,i],np.reshape(y,-1))[1][0]}, threshold:{treshold}, boolean:{abs(np.corrcoef(df.values[:,i],np.reshape(y,-1))[1][0]) >treshold}\")\n",
    "        if abs(np.corrcoef(df.values[:,i],np.reshape(y,-1))[1][0]) >treshold:\n",
    "            relevant_features_indx.append(i)\n",
    "    return relevant_features_indx\n",
    "\n",
    "f_cols = filter_features(extracted_features_df2.drop([\"file_name\",\"class\"],axis=1).iloc[:,:-1],extracted_features_df2.loc[:,'class'].values,treshold=0.10)\n"
   ]
  },
  {
   "cell_type": "code",
   "execution_count": 159,
   "id": "1b813251",
   "metadata": {},
   "outputs": [],
   "source": [
    "y_pred = pipelines[0].predict(extracted_features_df.loc[:,['rmse_mean']].values)"
   ]
  },
  {
   "cell_type": "code",
   "execution_count": 160,
   "id": "b7893333",
   "metadata": {},
   "outputs": [
    {
     "data": {
      "text/html": [
       "<div>\n",
       "<style scoped>\n",
       "    .dataframe tbody tr th:only-of-type {\n",
       "        vertical-align: middle;\n",
       "    }\n",
       "\n",
       "    .dataframe tbody tr th {\n",
       "        vertical-align: top;\n",
       "    }\n",
       "\n",
       "    .dataframe thead th {\n",
       "        text-align: right;\n",
       "    }\n",
       "</style>\n",
       "<table border=\"1\" class=\"dataframe\">\n",
       "  <thead>\n",
       "    <tr style=\"text-align: right;\">\n",
       "      <th></th>\n",
       "      <th>0</th>\n",
       "      <th>1</th>\n",
       "      <th>2</th>\n",
       "      <th>3</th>\n",
       "      <th>4</th>\n",
       "      <th>5</th>\n",
       "      <th>6</th>\n",
       "      <th>7</th>\n",
       "      <th>8</th>\n",
       "      <th>9</th>\n",
       "      <th>...</th>\n",
       "      <th>1408</th>\n",
       "      <th>1409</th>\n",
       "      <th>1410</th>\n",
       "      <th>1411</th>\n",
       "      <th>1412</th>\n",
       "      <th>1413</th>\n",
       "      <th>1414</th>\n",
       "      <th>1415</th>\n",
       "      <th>1416</th>\n",
       "      <th>1417</th>\n",
       "    </tr>\n",
       "  </thead>\n",
       "  <tbody>\n",
       "    <tr>\n",
       "      <th>0</th>\n",
       "      <td>0</td>\n",
       "      <td>0</td>\n",
       "      <td>0</td>\n",
       "      <td>0</td>\n",
       "      <td>0</td>\n",
       "      <td>0</td>\n",
       "      <td>0</td>\n",
       "      <td>0</td>\n",
       "      <td>0</td>\n",
       "      <td>0</td>\n",
       "      <td>...</td>\n",
       "      <td>0</td>\n",
       "      <td>0</td>\n",
       "      <td>0</td>\n",
       "      <td>0</td>\n",
       "      <td>0</td>\n",
       "      <td>0</td>\n",
       "      <td>0</td>\n",
       "      <td>0</td>\n",
       "      <td>0</td>\n",
       "      <td>0</td>\n",
       "    </tr>\n",
       "    <tr>\n",
       "      <th>1</th>\n",
       "      <td>0</td>\n",
       "      <td>0</td>\n",
       "      <td>0</td>\n",
       "      <td>0</td>\n",
       "      <td>0</td>\n",
       "      <td>0</td>\n",
       "      <td>0</td>\n",
       "      <td>0</td>\n",
       "      <td>0</td>\n",
       "      <td>0</td>\n",
       "      <td>...</td>\n",
       "      <td>1</td>\n",
       "      <td>1</td>\n",
       "      <td>1</td>\n",
       "      <td>1</td>\n",
       "      <td>1</td>\n",
       "      <td>1</td>\n",
       "      <td>1</td>\n",
       "      <td>1</td>\n",
       "      <td>1</td>\n",
       "      <td>1</td>\n",
       "    </tr>\n",
       "  </tbody>\n",
       "</table>\n",
       "<p>2 rows × 1418 columns</p>\n",
       "</div>"
      ],
      "text/plain": [
       "   0     1     2     3     4     5     6     7     8     9     ...  1408  \\\n",
       "0     0     0     0     0     0     0     0     0     0     0  ...     0   \n",
       "1     0     0     0     0     0     0     0     0     0     0  ...     1   \n",
       "\n",
       "   1409  1410  1411  1412  1413  1414  1415  1416  1417  \n",
       "0     0     0     0     0     0     0     0     0     0  \n",
       "1     1     1     1     1     1     1     1     1     1  \n",
       "\n",
       "[2 rows x 1418 columns]"
      ]
     },
     "execution_count": 160,
     "metadata": {},
     "output_type": "execute_result"
    }
   ],
   "source": [
    "pd.DataFrame([y_pred,extracted_features_df2['class']])"
   ]
  },
  {
   "cell_type": "code",
   "execution_count": null,
   "id": "367b87a9",
   "metadata": {},
   "outputs": [],
   "source": []
  }
 ],
 "metadata": {
  "kernelspec": {
   "display_name": "Python 3 (ipykernel)",
   "language": "python",
   "name": "python3"
  },
  "language_info": {
   "codemirror_mode": {
    "name": "ipython",
    "version": 3
   },
   "file_extension": ".py",
   "mimetype": "text/x-python",
   "name": "python",
   "nbconvert_exporter": "python",
   "pygments_lexer": "ipython3",
   "version": "3.8.12"
  }
 },
 "nbformat": 4,
 "nbformat_minor": 5
}

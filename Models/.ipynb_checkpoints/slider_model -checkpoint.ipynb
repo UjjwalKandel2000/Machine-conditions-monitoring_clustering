{
 "cells": [
  {
   "cell_type": "markdown",
   "id": "3d33b83f",
   "metadata": {},
   "source": [
    "### Import all the necessary libraries."
   ]
  },
  {
   "cell_type": "code",
   "execution_count": 1,
   "id": "48bea12d",
   "metadata": {},
   "outputs": [],
   "source": [
    "import numpy as np\n",
    "import pandas as pd\n",
    "import matplotlib.pyplot as plt\n",
    "import seaborn as sns\n",
    "from sklearn.model_selection import train_test_split\n",
    "from sklearn.ensemble import RandomForestClassifier\n",
    "import pickle\n",
    "from sklearn import metrics"
   ]
  },
  {
   "cell_type": "markdown",
   "id": "fd2f0fc4",
   "metadata": {},
   "source": [
    "#### Import the valve dataset with all the extracted features and choose only the ones with highest correlation with respect to column 'class'"
   ]
  },
  {
   "cell_type": "code",
   "execution_count": 9,
   "id": "53a45822",
   "metadata": {},
   "outputs": [
    {
     "data": {
      "text/plain": [
       "class             1.000000\n",
       "amp_mean          0.519006\n",
       "spec_roll_mean    0.472774\n",
       "melspec_std       0.465831\n",
       "spec_cent_mean    0.459535\n",
       "y_std             0.451597\n",
       "rms_mean          0.431885\n",
       "melspec_mean      0.423381\n",
       "y_max             0.379127\n",
       "zcr_mean          0.329398\n",
       "flat_mean         0.278730\n",
       "flat_max          0.246673\n",
       "zcr_min           0.196231\n",
       "zcr_max           0.182205\n",
       "spec_cent_min     0.152008\n",
       "spec_roll_min     0.117988\n",
       "y_mean           -0.007646\n",
       "amp_min          -0.019480\n",
       "y_min            -0.412523\n",
       "Name: class, dtype: float64"
      ]
     },
     "execution_count": 9,
     "metadata": {},
     "output_type": "execute_result"
    }
   ],
   "source": [
    "df = pd.read_csv(\"../Dataset/slider_features.csv\")\n",
    "correlation = df.corr()\n",
    "correlation['class'].sort_values(ascending = False)"
   ]
  },
  {
   "cell_type": "markdown",
   "id": "26e7c288",
   "metadata": {},
   "source": [
    "#### We can see that `spec_roll_mean`,`melspec_std`,`y_std`,`amp_mean`,`spec_cent_mean`,`rms_mean` have highest correlation and so we will choose those features and create a model for valve machine."
   ]
  },
  {
   "cell_type": "code",
   "execution_count": 10,
   "id": "0560c855",
   "metadata": {},
   "outputs": [
    {
     "data": {
      "text/html": [
       "<div>\n",
       "<style scoped>\n",
       "    .dataframe tbody tr th:only-of-type {\n",
       "        vertical-align: middle;\n",
       "    }\n",
       "\n",
       "    .dataframe tbody tr th {\n",
       "        vertical-align: top;\n",
       "    }\n",
       "\n",
       "    .dataframe thead th {\n",
       "        text-align: right;\n",
       "    }\n",
       "</style>\n",
       "<table border=\"1\" class=\"dataframe\">\n",
       "  <thead>\n",
       "    <tr style=\"text-align: right;\">\n",
       "      <th></th>\n",
       "      <th>spec_roll_mean</th>\n",
       "      <th>melspec_std</th>\n",
       "      <th>y_std</th>\n",
       "      <th>amp_mean</th>\n",
       "      <th>spec_cent_mean</th>\n",
       "      <th>rms_mean</th>\n",
       "      <th>class</th>\n",
       "    </tr>\n",
       "  </thead>\n",
       "  <tbody>\n",
       "    <tr>\n",
       "      <th>0</th>\n",
       "      <td>3214.092862</td>\n",
       "      <td>0.029762</td>\n",
       "      <td>0.005328</td>\n",
       "      <td>0.013499</td>\n",
       "      <td>1372.581294</td>\n",
       "      <td>0.005268</td>\n",
       "      <td>0</td>\n",
       "    </tr>\n",
       "    <tr>\n",
       "      <th>1</th>\n",
       "      <td>2035.462247</td>\n",
       "      <td>0.024763</td>\n",
       "      <td>0.005365</td>\n",
       "      <td>0.014137</td>\n",
       "      <td>985.649834</td>\n",
       "      <td>0.005330</td>\n",
       "      <td>0</td>\n",
       "    </tr>\n",
       "    <tr>\n",
       "      <th>2</th>\n",
       "      <td>2356.461853</td>\n",
       "      <td>0.028967</td>\n",
       "      <td>0.005878</td>\n",
       "      <td>0.015400</td>\n",
       "      <td>1086.078007</td>\n",
       "      <td>0.005845</td>\n",
       "      <td>0</td>\n",
       "    </tr>\n",
       "    <tr>\n",
       "      <th>3</th>\n",
       "      <td>3284.712775</td>\n",
       "      <td>0.029873</td>\n",
       "      <td>0.005626</td>\n",
       "      <td>0.014580</td>\n",
       "      <td>1394.776445</td>\n",
       "      <td>0.005581</td>\n",
       "      <td>0</td>\n",
       "    </tr>\n",
       "    <tr>\n",
       "      <th>4</th>\n",
       "      <td>1914.206832</td>\n",
       "      <td>0.029198</td>\n",
       "      <td>0.005836</td>\n",
       "      <td>0.015175</td>\n",
       "      <td>938.608348</td>\n",
       "      <td>0.005797</td>\n",
       "      <td>0</td>\n",
       "    </tr>\n",
       "  </tbody>\n",
       "</table>\n",
       "</div>"
      ],
      "text/plain": [
       "   spec_roll_mean  melspec_std     y_std  amp_mean  spec_cent_mean  rms_mean  \\\n",
       "0     3214.092862     0.029762  0.005328  0.013499     1372.581294  0.005268   \n",
       "1     2035.462247     0.024763  0.005365  0.014137      985.649834  0.005330   \n",
       "2     2356.461853     0.028967  0.005878  0.015400     1086.078007  0.005845   \n",
       "3     3284.712775     0.029873  0.005626  0.014580     1394.776445  0.005581   \n",
       "4     1914.206832     0.029198  0.005836  0.015175      938.608348  0.005797   \n",
       "\n",
       "   class  \n",
       "0      0  \n",
       "1      0  \n",
       "2      0  \n",
       "3      0  \n",
       "4      0  "
      ]
     },
     "execution_count": 10,
     "metadata": {},
     "output_type": "execute_result"
    }
   ],
   "source": [
    "df1 = df.filter(['spec_roll_mean','melspec_std','y_std','amp_mean','spec_cent_mean','rms_mean','class'],axis=1)\n",
    "df1.head()"
   ]
  },
  {
   "cell_type": "code",
   "execution_count": 11,
   "id": "e1308143",
   "metadata": {},
   "outputs": [],
   "source": [
    "# Separate features and target\n",
    "X = df.loc[:,['spec_roll_mean','melspec_std','y_std','amp_mean','spec_cent_mean','rms_mean']]\n",
    "y = df.iloc[:,-1]"
   ]
  },
  {
   "cell_type": "code",
   "execution_count": 12,
   "id": "980437f2",
   "metadata": {},
   "outputs": [],
   "source": [
    "# Divide the data into Training, and Test Set\n",
    "\n",
    "X_train,X_test,y_train,y_test = train_test_split(X,y,test_size=.3,random_state=42)"
   ]
  },
  {
   "cell_type": "code",
   "execution_count": 13,
   "id": "df905504",
   "metadata": {},
   "outputs": [],
   "source": [
    "# data standardization with  sklearn\n",
    "from sklearn.preprocessing import StandardScaler\n",
    "\n",
    "# copy of datasets\n",
    "X_train_stand = X_train.copy()\n",
    "X_test_stand = X_test.copy()\n",
    "\n",
    "\n",
    "# fit on training data column\n",
    "scale = StandardScaler().fit(X_train_stand)\n",
    "    \n",
    "# transform the training data column\n",
    "X_train_stand = scale.transform(X_train_stand)\n",
    "    \n",
    "# transform the testing data column\n",
    "X_test_stand = scale.transform(X_test_stand)"
   ]
  },
  {
   "cell_type": "markdown",
   "id": "d2a998c8",
   "metadata": {},
   "source": [
    "#### Create a model for predicting.\n",
    "\n",
    "Based on our research RandomForestClassifier is best suited for the 'slider machine'."
   ]
  },
  {
   "cell_type": "code",
   "execution_count": 16,
   "id": "68b9f445",
   "metadata": {},
   "outputs": [
    {
     "name": "stdout",
     "output_type": "stream",
     "text": [
      "Test accuracy for Random Forest is: 92.51423921887714\n",
      "\n",
      "Confusion matrix:\n",
      " [[959  14]\n",
      " [ 78 178]]\n",
      "\n",
      " Classification Report: \n",
      "               precision    recall  f1-score   support\n",
      "\n",
      "           0       0.92      0.99      0.95       973\n",
      "           1       0.93      0.70      0.79       256\n",
      "\n",
      "    accuracy                           0.93      1229\n",
      "   macro avg       0.93      0.84      0.87      1229\n",
      "weighted avg       0.93      0.93      0.92      1229\n",
      "\n"
     ]
    }
   ],
   "source": [
    "from sklearn.ensemble import RandomForestClassifier\n",
    "from sklearn import metrics\n",
    "\n",
    "model1 = RandomForestClassifier(random_state=42)\n",
    "model1.fit(X_train_stand, y_train)\n",
    "# Predict\n",
    "y_pred1 = model1.predict(X_test_stand)\n",
    "\n",
    "#Evaluation of the model\n",
    "\n",
    "print('Test accuracy for Random Forest is:',metrics.accuracy_score(y_test,y_pred1)*100)\n",
    "print('\\nConfusion matrix:\\n',metrics.confusion_matrix(y_test,y_pred1))\n",
    "print('\\n Classification Report: \\n',metrics.classification_report(y_test,y_pred1))\n"
   ]
  },
  {
   "cell_type": "markdown",
   "id": "b2471cda",
   "metadata": {},
   "source": [
    "#### Checking the cross validation score for the model."
   ]
  },
  {
   "cell_type": "code",
   "execution_count": 17,
   "id": "432a530e",
   "metadata": {},
   "outputs": [
    {
     "data": {
      "text/plain": [
       "array([0.97924298, 0.98778999, 0.92796093, 0.86446886, 0.75794621])"
      ]
     },
     "execution_count": 17,
     "metadata": {},
     "output_type": "execute_result"
    }
   ],
   "source": [
    "from sklearn.model_selection import cross_val_score\n",
    "cross_val_score(RandomForestClassifier(),X, y, cv=5)"
   ]
  },
  {
   "cell_type": "code",
   "execution_count": 18,
   "id": "5ffd29de",
   "metadata": {},
   "outputs": [
    {
     "data": {
      "text/plain": [
       "array([0.98534799, 0.98412698, 0.92673993, 0.86568987, 0.76772616])"
      ]
     },
     "execution_count": 18,
     "metadata": {},
     "output_type": "execute_result"
    }
   ],
   "source": [
    "cross_val_score(RandomForestClassifier(class_weight=\"balanced\"),X, y)"
   ]
  },
  {
   "cell_type": "markdown",
   "id": "c847c74b",
   "metadata": {},
   "source": [
    "#### Create a model for it to run"
   ]
  },
  {
   "cell_type": "code",
   "execution_count": null,
   "id": "d6cb7bf5",
   "metadata": {},
   "outputs": [],
   "source": [
    "import pickle "
   ]
  },
  {
   "cell_type": "code",
   "execution_count": null,
   "id": "f9e8dd67",
   "metadata": {},
   "outputs": [],
   "source": [
    "filename = 'slider_model.sav'\n",
    "pickle.dump(KNN_model, open(filename, 'wb'))"
   ]
  },
  {
   "cell_type": "code",
   "execution_count": null,
   "id": "0a601544",
   "metadata": {},
   "outputs": [],
   "source": [
    "# load the model from disk\n",
    "loaded_model = pickle.load(open(filename, 'rb'))\n",
    "result = loaded_model.predict(X_test_stand)"
   ]
  }
 ],
 "metadata": {
  "kernelspec": {
   "display_name": "Python 3 (ipykernel)",
   "language": "python",
   "name": "python3"
  },
  "language_info": {
   "codemirror_mode": {
    "name": "ipython",
    "version": 3
   },
   "file_extension": ".py",
   "mimetype": "text/x-python",
   "name": "python",
   "nbconvert_exporter": "python",
   "pygments_lexer": "ipython3",
   "version": "3.8.12"
  }
 },
 "nbformat": 4,
 "nbformat_minor": 5
}

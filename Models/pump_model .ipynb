{
 "cells": [
  {
   "cell_type": "markdown",
   "id": "3d33b83f",
   "metadata": {},
   "source": [
    "### Import all the necessary libraries."
   ]
  },
  {
   "cell_type": "code",
   "execution_count": 22,
   "id": "48bea12d",
   "metadata": {},
   "outputs": [],
   "source": [
    "import numpy as np\n",
    "import pandas as pd\n",
    "import matplotlib.pyplot as plt\n",
    "import seaborn as sns\n",
    "from sklearn.model_selection import train_test_split\n",
    "from sklearn.ensemble import RandomForestClassifier\n",
    "import pickle\n",
    "from sklearn import metrics"
   ]
  },
  {
   "cell_type": "markdown",
   "id": "fd2f0fc4",
   "metadata": {},
   "source": [
    "#### Import the valve dataset with all the extracted features and choose only the ones with highest correlation with respect to column 'class'"
   ]
  },
  {
   "cell_type": "code",
   "execution_count": 23,
   "id": "53a45822",
   "metadata": {},
   "outputs": [
    {
     "data": {
      "text/plain": [
       "class             1.000000\n",
       "amp_mean          0.491441\n",
       "y_std             0.446353\n",
       "melspec_mean      0.442739\n",
       "rms_mean          0.433178\n",
       "melspec_std       0.390713\n",
       "y_max             0.386973\n",
       "amp_min           0.345665\n",
       "zcr_mean          0.103197\n",
       "y_mean            0.089914\n",
       "zcr_min           0.082238\n",
       "flat_max          0.080119\n",
       "zcr_max           0.064419\n",
       "spec_cent_mean    0.062948\n",
       "flat_mean         0.049926\n",
       "spec_cent_min     0.027408\n",
       "spec_roll_mean    0.023528\n",
       "spec_roll_min    -0.004405\n",
       "y_min            -0.359156\n",
       "Name: class, dtype: float64"
      ]
     },
     "execution_count": 23,
     "metadata": {},
     "output_type": "execute_result"
    }
   ],
   "source": [
    "df = pd.read_csv(\"dataset/pump_features.csv\")\n",
    "correlation = df.corr()\n",
    "#plt.figure(figsize=(14,8))\n",
    "#sns.heatmap(correlation,annot=True,linewidth=0,vmin=-1)\n",
    "correlation['class'].sort_values(ascending = False)"
   ]
  },
  {
   "cell_type": "markdown",
   "id": "23eb3e20",
   "metadata": {},
   "source": [
    "#### We can see that 'rms_mean','y_max','y_std','melspec_mean','amp_mean' have highest correlation and so we will choose those features and create a model for valve machine."
   ]
  },
  {
   "cell_type": "code",
   "execution_count": 24,
   "id": "0560c855",
   "metadata": {},
   "outputs": [
    {
     "data": {
      "text/html": [
       "<div>\n",
       "<style scoped>\n",
       "    .dataframe tbody tr th:only-of-type {\n",
       "        vertical-align: middle;\n",
       "    }\n",
       "\n",
       "    .dataframe tbody tr th {\n",
       "        vertical-align: top;\n",
       "    }\n",
       "\n",
       "    .dataframe thead th {\n",
       "        text-align: right;\n",
       "    }\n",
       "</style>\n",
       "<table border=\"1\" class=\"dataframe\">\n",
       "  <thead>\n",
       "    <tr style=\"text-align: right;\">\n",
       "      <th></th>\n",
       "      <th>rms_mean</th>\n",
       "      <th>y_max</th>\n",
       "      <th>y_std</th>\n",
       "      <th>melspec_mean</th>\n",
       "      <th>amp_mean</th>\n",
       "      <th>class</th>\n",
       "    </tr>\n",
       "  </thead>\n",
       "  <tbody>\n",
       "    <tr>\n",
       "      <th>0</th>\n",
       "      <td>0.005032</td>\n",
       "      <td>0.027334</td>\n",
       "      <td>0.005068</td>\n",
       "      <td>0.005801</td>\n",
       "      <td>0.014499</td>\n",
       "      <td>0</td>\n",
       "    </tr>\n",
       "    <tr>\n",
       "      <th>1</th>\n",
       "      <td>0.005439</td>\n",
       "      <td>0.034021</td>\n",
       "      <td>0.005452</td>\n",
       "      <td>0.006715</td>\n",
       "      <td>0.015554</td>\n",
       "      <td>0</td>\n",
       "    </tr>\n",
       "    <tr>\n",
       "      <th>2</th>\n",
       "      <td>0.005210</td>\n",
       "      <td>0.024207</td>\n",
       "      <td>0.005226</td>\n",
       "      <td>0.006221</td>\n",
       "      <td>0.014665</td>\n",
       "      <td>0</td>\n",
       "    </tr>\n",
       "    <tr>\n",
       "      <th>3</th>\n",
       "      <td>0.005834</td>\n",
       "      <td>0.036947</td>\n",
       "      <td>0.005865</td>\n",
       "      <td>0.007527</td>\n",
       "      <td>0.017364</td>\n",
       "      <td>0</td>\n",
       "    </tr>\n",
       "    <tr>\n",
       "      <th>4</th>\n",
       "      <td>0.004999</td>\n",
       "      <td>0.022523</td>\n",
       "      <td>0.005028</td>\n",
       "      <td>0.005714</td>\n",
       "      <td>0.014255</td>\n",
       "      <td>0</td>\n",
       "    </tr>\n",
       "  </tbody>\n",
       "</table>\n",
       "</div>"
      ],
      "text/plain": [
       "   rms_mean     y_max     y_std  melspec_mean  amp_mean  class\n",
       "0  0.005032  0.027334  0.005068      0.005801  0.014499      0\n",
       "1  0.005439  0.034021  0.005452      0.006715  0.015554      0\n",
       "2  0.005210  0.024207  0.005226      0.006221  0.014665      0\n",
       "3  0.005834  0.036947  0.005865      0.007527  0.017364      0\n",
       "4  0.004999  0.022523  0.005028      0.005714  0.014255      0"
      ]
     },
     "execution_count": 24,
     "metadata": {},
     "output_type": "execute_result"
    }
   ],
   "source": [
    "df1 = df.filter(['rms_mean','y_max','y_std','melspec_mean','amp_mean','class'],axis=1)\n",
    "df1.head()"
   ]
  },
  {
   "cell_type": "code",
   "execution_count": 28,
   "id": "e1308143",
   "metadata": {},
   "outputs": [],
   "source": [
    "# Separate features and target\n",
    "X = df.loc[:,['rms_mean','y_max','y_std','melspec_mean','amp_mean']]\n",
    "y = df.iloc[:,-1]"
   ]
  },
  {
   "cell_type": "code",
   "execution_count": 29,
   "id": "980437f2",
   "metadata": {},
   "outputs": [],
   "source": [
    "# Split the data for train and test\n",
    "\n",
    "X_train,X_test,y_train,y_test = train_test_split(X,y,test_size=.3,random_state=42)"
   ]
  },
  {
   "cell_type": "code",
   "execution_count": 30,
   "id": "df905504",
   "metadata": {},
   "outputs": [],
   "source": [
    "# data standardization with  sklearn\n",
    "from sklearn.preprocessing import StandardScaler\n",
    "\n",
    "# copy of datasets\n",
    "X_train_stand = X_train.copy()\n",
    "X_test_stand = X_test.copy()\n",
    "\n",
    "\n",
    "# fit on training data column\n",
    "scale = StandardScaler().fit(X_train_stand)\n",
    "    \n",
    "# transform the training data column\n",
    "X_train_stand = scale.transform(X_train_stand)\n",
    "    \n",
    "# transform the testing data column\n",
    "X_test_stand = scale.transform(X_test_stand)"
   ]
  },
  {
   "cell_type": "markdown",
   "id": "875e99e9",
   "metadata": {},
   "source": [
    "#### Create a model for predicting.\n",
    "\n",
    "Based on our research RandomForestClassifier is best suited for the 'pump machine'."
   ]
  },
  {
   "cell_type": "code",
   "execution_count": 38,
   "id": "68b9f445",
   "metadata": {},
   "outputs": [
    {
     "name": "stdout",
     "output_type": "stream",
     "text": [
      "Test accuracy for Random Forest is: 93.34389857369256\n",
      "\n",
      "Confusion matrix:\n",
      " [[1119    4]\n",
      " [  80   59]]\n",
      "\n",
      " Classification Report: \n",
      "               precision    recall  f1-score   support\n",
      "\n",
      "           0       0.93      1.00      0.96      1123\n",
      "           1       0.94      0.42      0.58       139\n",
      "\n",
      "    accuracy                           0.93      1262\n",
      "   macro avg       0.93      0.71      0.77      1262\n",
      "weighted avg       0.93      0.93      0.92      1262\n",
      "\n"
     ]
    }
   ],
   "source": [
    "from sklearn.ensemble import RandomForestClassifier\n",
    "from sklearn import metrics\n",
    "\n",
    "model1 = RandomForestClassifier(random_state=42)\n",
    "model1.fit(X_train_stand, y_train)\n",
    "# Predict\n",
    "y_pred1 = model1.predict(X_test_stand)\n",
    "\n",
    "#Evaluation of the model\n",
    "\n",
    "print('Test accuracy for Random Forest is:',metrics.accuracy_score(y_test,y_pred1)*100)\n",
    "print('\\nConfusion matrix:\\n',metrics.confusion_matrix(y_test,y_pred1))\n",
    "print('\\n Classification Report: \\n',metrics.classification_report(y_test,y_pred1))\n"
   ]
  },
  {
   "cell_type": "markdown",
   "id": "529173ad",
   "metadata": {},
   "source": [
    "#### Checking the cross validation score for the model."
   ]
  },
  {
   "cell_type": "code",
   "execution_count": 39,
   "id": "432a530e",
   "metadata": {},
   "outputs": [
    {
     "data": {
      "text/plain": [
       "array([0.96432818, 0.94530321, 0.91319857, 0.89179548, 0.91082045])"
      ]
     },
     "execution_count": 39,
     "metadata": {},
     "output_type": "execute_result"
    }
   ],
   "source": [
    "from sklearn.model_selection import cross_val_score\n",
    "cross_val_score(RandomForestClassifier(),X, y)"
   ]
  },
  {
   "cell_type": "code",
   "execution_count": 33,
   "id": "5ffd29de",
   "metadata": {},
   "outputs": [
    {
     "data": {
      "text/plain": [
       "array([0.96313912, 0.94292509, 0.91795482, 0.89774078, 0.91795482])"
      ]
     },
     "execution_count": 33,
     "metadata": {},
     "output_type": "execute_result"
    }
   ],
   "source": [
    "cross_val_score(RandomForestClassifier(class_weight=\"balanced\"),X, y)"
   ]
  },
  {
   "cell_type": "markdown",
   "id": "c847c74b",
   "metadata": {},
   "source": [
    "#### Create a model for it to run"
   ]
  },
  {
   "cell_type": "code",
   "execution_count": 34,
   "id": "d6cb7bf5",
   "metadata": {},
   "outputs": [],
   "source": [
    "import pickle "
   ]
  },
  {
   "cell_type": "code",
   "execution_count": 36,
   "id": "f9e8dd67",
   "metadata": {},
   "outputs": [],
   "source": [
    "filename = 'pump_model.sav'\n",
    "pickle.dump(model1, open(filename, 'wb'))"
   ]
  },
  {
   "cell_type": "code",
   "execution_count": 37,
   "id": "0a601544",
   "metadata": {},
   "outputs": [],
   "source": [
    "# load the model from disk\n",
    "loaded_model = pickle.load(open(filename, 'rb'))\n",
    "result = loaded_model.predict(X_test_stand)"
   ]
  }
 ],
 "metadata": {
  "kernelspec": {
   "display_name": "Python 3 (ipykernel)",
   "language": "python",
   "name": "python3"
  },
  "language_info": {
   "codemirror_mode": {
    "name": "ipython",
    "version": 3
   },
   "file_extension": ".py",
   "mimetype": "text/x-python",
   "name": "python",
   "nbconvert_exporter": "python",
   "pygments_lexer": "ipython3",
   "version": "3.8.12"
  }
 },
 "nbformat": 4,
 "nbformat_minor": 5
}
